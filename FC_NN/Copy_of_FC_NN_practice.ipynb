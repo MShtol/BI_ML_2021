{
 "cells": [
  {
   "cell_type": "markdown",
   "metadata": {
    "id": "-pSGPQS8Btmc"
   },
   "source": [
    "Hi all! Today you will try for the first time to write your own neural network and try to train it. We will work with pictures, but not yet in exactly the best way to do it, but it should work out well.\r\n",
    "\r\n",
    "We will work with [dataset](https://github.com/rois-codh/kmnist) `Kuzushiji-MNIST` (`KMNIST`). These are handwritten letters, the images have sizes (28, 28, 1) and are divided into 10 classes, you can read more at the link."
   ]
  },
  {
   "cell_type": "code",
   "execution_count": 1,
   "metadata": {
    "id": "75HVAP_RFU7r"
   },
   "outputs": [],
   "source": [
    "import numpy as np\n",
    "import torch\n",
    "import matplotlib.pyplot as plt\n",
    "from IPython.display import clear_output"
   ]
  },
  {
   "cell_type": "markdown",
   "metadata": {
    "id": "46iQ8ixtEruP"
   },
   "source": [
    "## Loading Data"
   ]
  },
  {
   "cell_type": "markdown",
   "metadata": {
    "id": "R6h1jVreJlV-"
   },
   "source": [
    "Now we will use built-in data, but in reality we have to write our own class for the Dataset, which has several required methods (for example, `__getitem__`), but we will discuss this later."
   ]
  },
  {
   "cell_type": "code",
   "execution_count": 2,
   "metadata": {
    "id": "s9L9Z02o_1bK"
   },
   "outputs": [],
   "source": [
    "import torchvision\n",
    "from torchvision.datasets import KMNIST\n",
    "\n",
    "\n",
    "# Turns pictures into tensors\n",
    "transform = torchvision.transforms.Compose(\n",
    "    [torchvision.transforms.ToTensor()])\n",
    "\n",
    "# Load the data (the variables contain objects of the `Dataset` type)\n",
    "# We pass the necessary transformations (ToTensor) to the `transform` argument\n",
    "trainset = KMNIST(root=\"./KMNIST\", train=True, download=True, transform=transform)\n",
    "testset = KMNIST(root=\"./KMNIST\", train=False, download=True, transform=transform)\n",
    "\n",
    "clear_output()"
   ]
  },
  {
   "cell_type": "markdown",
   "metadata": {
    "id": "V83E2vDrO9CC"
   },
   "source": [
    "Let’s define dataloaders; they are needed to implement stochastic gradient descent (that is, we don’t want to read all the images into RAM at once, but do it in batches)."
   ]
  },
  {
   "cell_type": "code",
   "execution_count": 3,
   "metadata": {
    "id": "oqC8XO8pO8Px"
   },
   "outputs": [],
   "source": [
    "from torch.utils.data import DataLoader\n",
    "\n",
    "batch_size = 256\n",
    "\n",
    "trainloader = DataLoader(trainset, batch_size=batch_size, shuffle=True, num_workers=2)\n",
    "testloader = DataLoader(testset, batch_size=batch_size, shuffle=False, num_workers=2)"
   ]
  },
  {
   "cell_type": "markdown",
   "metadata": {
    "id": "t2vmM4KaHvrs"
   },
   "source": [
    "Let's look at some picture:"
   ]
  },
  {
   "cell_type": "code",
   "execution_count": 4,
   "metadata": {
    "colab": {
     "base_uri": "https://localhost:8080/",
     "height": 266
    },
    "id": "N-b-kFCYAoOP",
    "outputId": "148b0f3b-b1f3-46dd-bf13-156a9dacd48b"
   },
   "outputs": [
    {
     "data": {
      "image/png": "[encoded data removed]",
      "text/plain": [
       "<Figure size 640x480 with 1 Axes>"
      ]
     },
     "metadata": {},
     "output_type": "display_data"
    }
   ],
   "source": [
    "plt.imshow(trainset[0][0].view(28, 28).numpy(), cmap=\"gray\")\n",
    "plt.axis(\"off\")\n",
    "plt.title(f\"Class is {trainset[0][1]}\", fontsize=16);"
   ]
  },
  {
   "cell_type": "markdown",
   "metadata": {
    "id": "8_MSY231Hzz9"
   },
   "source": [
    "### Task 1. Look at the pictures\r\n",
    "\r\n",
    "Draw images of all 10 classes on one graph:"
   ]
  },
  {
   "cell_type": "markdown",
   "metadata": {
    "id": "j0tNdHM5JS6l"
   },
   "source": [
    "⣿⣿⣿⣿⣿⣿⠿⢋⣥⣴⣶⣶⣶⣬⣙⠻⠟⣋⣭⣭⣭⣭⡙⠻⣿⣿⣿⣿⣿\n",
    "⣿⣿⣿⣿⡿⢋⣴⣿⣿⠿⢟⣛⣛⣛⠿⢷⡹⣿⣿⣿⣿⣿⣿⣆⠹⣿⣿⣿⣿\n",
    "⣿⣿⣿⡿⢁⣾⣿⣿⣴⣿⣿⣿⣿⠿⠿⠷⠥⠱⣶⣶⣶⣶⡶⠮⠤⣌⡙⢿⣿\n",
    "⣿⡿⢛⡁⣾⣿⣿⣿⡿⢟⡫⢕⣪⡭⠥⢭⣭⣉⡂⣉⡒⣤⡭⡉⠩⣥⣰⠂⠹\n",
    "⡟⢠⣿⣱⣿⣿⣿⣏⣛⢲⣾⣿⠃⠄⠐⠈⣿⣿⣿⣿⣿⣿⠄⠁⠃⢸⣿⣿⡧\n",
    "⢠⣿⣿⣿⣿⣿⣿⣿⣿⣇⣊⠙⠳⠤⠤⠾⣟⠛⠍⣹⣛⣛⣢⣀⣠⣛⡯⢉⣰\n",
    "⣿⣿⣿⣿⣿⣿⣿⣿⣿⣿⣿⣿⣷⡶⠶⢒⣠⣼⣿⣿⣛⠻⠛⢛⣛⠉⣴⣿⣿\n",
    "⣿⣿⣿⣿⣿⣿⣿⡿⢛⡛⢿⣿⣿⣶⣿⣿⣿⣿⣿⣿⣿⣿⣿⣿⣿⣷⡈⢿⣿\n",
    "⣿⣿⣿⣿⣿⣿⣿⠸⣿⡻⢷⣍⣛⠻⠿⠿⣿⣿⣿⣿⣿⣿⣿⣿⣿⠿⢇⡘⣿\n",
    "⣿⣿⣿⣿⣿⣿⣿⣷⣝⠻⠶⣬⣍⣛⣛⠓⠶⠶⠶⠤⠬⠭⠤⠶⠶⠞⠛⣡⣿\n",
    "⢿⣿⣿⣿⣿⣿⣿⣿⣿⣿⣷⣶⣬⣭⣍⣙⣛⣛⣛⠛⠛⠛⠿⠿⠿⠛⣠⣿⣿\n",
    "⣦⣈⠉⢛⠻⠿⠿⢿⣿⣿⣿⣿⣿⣿⣿⣿⣿⣿⣿⡿⠿⠛⣁⣴⣾⣿⣿⣿⣿\n",
    "⣿⣿⣿⣶⣮⣭⣁⣒⣒⣒⠂⠠⠬⠭⠭⠭⢀⣀⣠⣄⡘⠿⣿⣿⣿⣿⣿⣿⣿\n",
    "⣿⣿⣿⣿⣿⣿⣿⣿⣿⣿⣿⣿⣿⣿⣿⣿⣿⣿⣿⣿⣿⣦⡈⢿⣿⣿⣿⣿⣿\n",
    "\n",
    "\n",
    "\n"
   ]
  },
  {
   "cell_type": "code",
   "execution_count": 5,
   "metadata": {
    "colab": {
     "base_uri": "https://localhost:8080/",
     "height": 223
    },
    "id": "x3j6Bsu9AoT6",
    "outputId": "706b321f-58f9-4f57-9d82-c7cab1ff6a6a"
   },
   "outputs": [
    {
     "data": {
      "image/png": "[encoded data removed]",
      "text/plain": [
       "<Figure size 640x480 with 10 Axes>"
      ]
     },
     "metadata": {},
     "output_type": "display_data"
    }
   ],
   "source": [
    "# nums = []\n",
    "X = trainset.data.numpy()\n",
    "y = trainset.targets.numpy()\n",
    "\n",
    "fig, axs = plt.subplots(nrows=2, ncols=5, sharex=True, sharey=True)\n",
    "\n",
    "for i, dig in enumerate(np.unique(y)):\n",
    "    axs.flatten()[i].imshow(X[tuple(np.where(y==dig))][0].reshape(28, 28).astype(int), cmap='gray')\n",
    "    axs.flatten()[i].set_title(\"Digit \" + str(dig))\n",
    "    axs.flatten()[i].axis(\"off\")"
   ]
  },
  {
   "cell_type": "markdown",
   "metadata": {
    "id": "dLCfnFW-JtGx"
   },
   "source": [
    "### Task 2. Building your first MLP\r",
    "ts\r\n",
    "\r\n",
    "MLP (multilayer perceptron) or a neural network of fully connected (linear) layers, we already know this.\r\n",
    "\r\n",
    "Describe the structure of the network: 3 fully connected layers + activation functions of your choice. **Think** about activation after the last layer!\r\n",
    "\r\n",
    "The network at the output of layer 1 should have 256 features, at the output of 2,128 features, at the output of the last layer as many as you have classes.\r\n",
    "\r\n",
    "https://pytorch.org/docs/stable/nn.html?highlight=activation#non-linear-activations-weighted-sum-nonlinearity"
   ]
  },
  {
   "cell_type": "code",
   "execution_count": 6,
   "metadata": {
    "id": "dhYBvQIXJdSz"
   },
   "outputs": [],
   "source": [
    "import torch.nn as nn\n",
    "\n",
    "class FCNet(nn.Module):\n",
    "     def __init__(self):\n",
    "         super().__init__() # remember this!\n",
    "         ## YOUR CODE HERE\n",
    "         # in_features the number of inputs for each neuron, out_features the number of neurons\n",
    "         self.fc1 = nn.Linear(in_features=28*28, out_features=256)\n",
    "         # in_features the number of inputs for each neuron, out_features the number of neurons\n",
    "         self.fc2 = nn.Linear(in_features=256, out_features=128)\n",
    "         # in_features number of pre-layer neurons, out_features number of classes (10)\n",
    "         self.fc3 = nn.Linear(in_features=128, out_features=10)\n",
    "         # Activation function for hidden layers\n",
    "         self.activation = nn.ReLU() # you can do this, or you can do it in forward\n",
    "\n",
    "     def forward(self, x): # Forward is called inside the __call__ method of the parent class\n",
    "         ## x -> dimension tensor (BATCH_SIZE, N_CHANNELS, WIDTH, HEIGHT)\n",
    "         ## we need to think about the fact that our fully connected layers accept vectors\n",
    "\n",
    "         x = x.view(-1, 28*28) # convert the image to a vector\n",
    "         x = self.fc1(x)\n",
    "         x = self.activation(x)\n",
    "         x = self.fc2(x)\n",
    "         x = self.activation(x)\n",
    "         logits = self.fc3(x)\n",
    "         return logits"
   ]
  },
  {
   "cell_type": "markdown",
   "metadata": {},
   "source": [
    "How many trainable parameters does your model have (weights and biases)?\n",
    "\n",
    "**Answer:** \n",
    "\n",
    "Weights $28 \\cdot 28 \\cdot 256 + 256 \\cdot 128 + 128 \\cdot 10 = 234752$, biases $256 + 128 + 10 = 394$"
   ]
  },
  {
   "cell_type": "markdown",
   "metadata": {
    "id": "iwGllji2M4lp"
   },
   "source": [
    "### Task 3. Write the code for the training model\r\n",
    "\r\n",
    "\r\n",
    "It's possible (and necessary) to look at the code of the seminar on the subject. You need to create a model, define a loss function and optimizer (start with SGD). Next, you need to train the model using the training Dataloader and calculate the loss on the training and test Dataloaders."
   ]
  },
  {
   "cell_type": "markdown",
   "metadata": {
    "id": "Grv9xcybRfCX"
   },
   "source": [
    "Let's write a function for calculation of `accuracy`:"
   ]
  },
  {
   "cell_type": "code",
   "execution_count": null,
   "metadata": {
    "id": "9D2QPFe5JdVc"
   },
   "outputs": [],
   "source": [
    "def get_accuracy(model, dataloader):\n",
    "    \"\"\"\n",
    "    model - trained neural network\n",
    "    dataloader - dataloader on which you want to calculate accuracy\n",
    "    \"\"\"\n",
    "    correct = 0\n",
    "    total = 0\n",
    "    with torch.no_grad(): # Tensors inside this block will have requires_grad=False\n",
    "        for images, labels in dataloader:\n",
    "            outputs = model(images)\n",
    "            _, predicted = torch.max(outputs.data, 1)\n",
    "            total += labels.size(0)\n",
    "            correct += (predicted == labels).sum().item()\n",
    "    accuracy = correct / total\n",
    "\n",
    "    return accuracy"
   ]
  },
  {
   "cell_type": "markdown",
   "metadata": {
    "id": "D3EmoWJyTBkE"
   },
   "source": [
    "#### Main training cycle\r\n",
    "\r\n",
    "This code can (and often should) be put into a separate function, but for now you don’t have to do this, it’s all optional)"
   ]
  },
  {
   "cell_type": "code",
   "execution_count": null,
   "metadata": {
    "id": "uIZKSOdgUi3e"
   },
   "outputs": [],
   "source": [
    "# Let's create a model object\n",
    "fc_net = FCNet()\n",
    "# Define the loss function\n",
    "loss_function = nn.CrossEntropyLoss()\n",
    "# Let's create an optimizer for our network\n",
    "lr = 0.001 # learning rate"
   ]
  },
  {
   "cell_type": "markdown",
   "metadata": {
    "id": "uKYzXFqoX_fd"
   },
   "source": [
    "Write a learning cycle. To begin with, 10 epochs will be enough. What `accuracy` value was obtained on the test sample?"
   ]
  },
  {
   "cell_type": "code",
   "execution_count": null,
   "metadata": {
    "id": "Ma2bshC6MxI6"
   },
   "outputs": [],
   "source": [
    "def train(n_epochs, trainloader,neural_net, optimizer, loss_function):\n",
    "  loss_history = []\n",
    "  for epoch in range(n_epochs):\n",
    "      epoch_loss = 0\n",
    "      for images, labels in trainloader: # We get a batch of training pictures\n",
    "          optimizer.zero_grad() # so that it doesn’t look like in log regression, when we didn’t reset the gradients\n",
    "          outputs = neural_net(images) # making predictions\n",
    "          loss = loss_function(outputs, labels) # calculating loss\n",
    "          loss.backward() # calculate gradient\n",
    "          optimizer.step() # do a gradient descent step\n",
    "\n",
    "          epoch_loss += loss.item()\n",
    "\n",
    "      loss_history.append(epoch_loss/len(trainloader))\n",
    "\n",
    "      print(f\"Epoch={epoch+1} loss={loss_history[epoch]:.4f}\")\n",
    "\n",
    "      print(get_accuracy(neural_net, testloader))\n",
    "  return loss_history"
   ]
  },
  {
   "cell_type": "markdown",
   "metadata": {
    "id": "TehZXuMNChuC"
   },
   "source": [
    "#### **Optimizer ADAM**"
   ]
  },
  {
   "cell_type": "code",
   "execution_count": null,
   "metadata": {
    "colab": {
     "base_uri": "https://localhost:8080/"
    },
    "id": "jcNsQuBlCaMv",
    "outputId": "2c75bd4c-bdfd-4d27-c197-d81abb53a6f0"
   },
   "outputs": [
    {
     "name": "stdout",
     "output_type": "stream",
     "text": [
      "Epoch=1 loss=0.6255\n",
      "0.7964\n",
      "Epoch=2 loss=0.2802\n",
      "0.8453\n",
      "Epoch=3 loss=0.1922\n",
      "0.869\n",
      "Epoch=4 loss=0.1397\n",
      "0.8856\n",
      "Epoch=5 loss=0.1062\n",
      "0.8906\n",
      "Epoch=6 loss=0.0803\n",
      "0.8947\n",
      "Epoch=7 loss=0.0599\n",
      "0.9002\n",
      "Epoch=8 loss=0.0447\n",
      "0.8992\n",
      "Epoch=9 loss=0.0322\n",
      "0.9016\n",
      "Epoch=10 loss=0.0233\n",
      "0.9022\n"
     ]
    }
   ],
   "source": [
    "n_epochs = 10\n",
    "optimizer = torch.optim.Adam(fc_net.parameters(), lr=lr)\n",
    "loss_history = train(n_epochs, trainloader, fc_net, optimizer, loss_function)"
   ]
  },
  {
   "cell_type": "code",
   "execution_count": null,
   "metadata": {
    "colab": {
     "base_uri": "https://localhost:8080/",
     "height": 350
    },
    "id": "YxiVoNTZDYjp",
    "outputId": "f15934aa-0796-4ccd-ced3-1fc04e28692a"
   },
   "outputs": [
    {
     "data": {
      "image/png": "[encoded data removed]",
      "text/plain": [
       "<Figure size 720x360 with 1 Axes>"
      ]
     },
     "metadata": {
      "needs_background": "light"
     },
     "output_type": "display_data"
    }
   ],
   "source": [
    "import matplotlib.pyplot as plt\n",
    "plt.figure(figsize=(10,5))\n",
    "plt.plot([i+1 for i in range(n_epochs)], loss_history)\n",
    "plt.xlabel(\"Epochs\")\n",
    "plt.ylabel(\"Loss\")\n",
    "plt.title(\"ADAM\")\n",
    "plt.show()"
   ]
  },
  {
   "cell_type": "markdown",
   "metadata": {
    "id": "X1XGX6c2Dy-G"
   },
   "source": [
    "#### **Optimizer SGD**"
   ]
  },
  {
   "cell_type": "code",
   "execution_count": null,
   "metadata": {
    "colab": {
     "base_uri": "https://localhost:8080/"
    },
    "id": "2cB5LRbrS3BN",
    "outputId": "947db9fd-848b-4134-8a6e-0437ea493b4f"
   },
   "outputs": [
    {
     "name": "stdout",
     "output_type": "stream",
     "text": [
      "Epoch=1 loss=2.3048\n",
      "0.12\n",
      "Epoch=2 loss=2.2978\n",
      "0.1318\n",
      "Epoch=3 loss=2.2908\n",
      "0.1449\n",
      "Epoch=4 loss=2.2836\n",
      "0.1623\n",
      "Epoch=5 loss=2.2758\n",
      "0.1869\n",
      "Epoch=6 loss=2.2672\n",
      "0.2124\n",
      "Epoch=7 loss=2.2576\n",
      "0.2367\n",
      "Epoch=8 loss=2.2467\n",
      "0.253\n",
      "Epoch=9 loss=2.2342\n",
      "0.2671\n",
      "Epoch=10 loss=2.2199\n",
      "0.2791\n"
     ]
    }
   ],
   "source": [
    "n_epochs = 10\n",
    "# Let's create a model object\n",
    "sgd_fc_net = FCNet()\n",
    "# Define the loss function\n",
    "sgd_loss_function = nn.CrossEntropyLoss()\n",
    "# Let's create an optimizer for our network\n",
    "lr = 0.001 # learning rate\n",
    "\n",
    "sgd_optimizer = torch.optim.SGD(sgd_fc_net.parameters(), lr=lr)\n",
    "sgd_loss_history = train(n_epochs, trainloader, sgd_fc_net, sgd_optimizer, sgd_loss_function)"
   ]
  },
  {
   "cell_type": "code",
   "execution_count": null,
   "metadata": {
    "colab": {
     "base_uri": "https://localhost:8080/",
     "height": 350
    },
    "id": "8NwpcTojERHC",
    "outputId": "a586e245-b59c-4923-b78d-b48d632e0ef4"
   },
   "outputs": [
    {
     "data": {
      "image/png": "[encoded data removed]",
      "text/plain": [
       "<Figure size 720x360 with 1 Axes>"
      ]
     },
     "metadata": {
      "needs_background": "light"
     },
     "output_type": "display_data"
    }
   ],
   "source": [
    "import matplotlib.pyplot as plt\n",
    "plt.figure(figsize=(10,5))\n",
    "plt.plot([i+1 for i in range(n_epochs)], sgd_loss_history)\n",
    "plt.xlabel(\"Epochs\")\n",
    "plt.ylabel(\"Loss\")\n",
    "plt.title(\"SGD\")\n",
    "plt.show()"
   ]
  },
  {
   "cell_type": "markdown",
   "metadata": {},
   "source": [
    "### Task 4. Studying the influence of normalization\n",
    "\n",
    "You may have noticed that we forgot to normalize our data, and for neural networks this can be very critical.\n",
    "\n",
    "Normalize the data.\n",
    "\n",
    "* Calculate the mean and standard deviation of pixel intensity for all training data\n",
    "* Normalize the data using these parameters (use the `Normalize` transformation)\n",
    "\n",
    "\n",
    "Evaluate the impact of data normalization."
   ]
  },
  {
   "cell_type": "code",
   "execution_count": null,
   "metadata": {
    "colab": {
     "base_uri": "https://localhost:8080/"
    },
    "id": "FHlDaYWGR6YA",
    "outputId": "ab29f34a-7529-450d-d80f-c713f4f93b1b"
   },
   "outputs": [
    {
     "name": "stdout",
     "output_type": "stream",
     "text": [
      "0.19176212 0.3483432\n"
     ]
    }
   ],
   "source": [
    "mean = np.array([trainset[i][0].numpy() for i in range(len(trainset))]).mean()\n",
    "std = np.array([trainset[i][0].numpy() for i in range(len(trainset))]).std()\n",
    "print(mean, std)\n",
    "\n",
    "transform_with_norm = torchvision.transforms.Compose([\n",
    "                torchvision.transforms.ToTensor(),\n",
    "                torchvision.transforms.Normalize(mean, std)\n",
    "            ])\n",
    "\n",
    "trainset.transform = transform_with_norm\n",
    "testset.transform = transform_with_norm"
   ]
  },
  {
   "cell_type": "code",
   "execution_count": null,
   "metadata": {
    "id": "MYs6IgSGN0jc"
   },
   "outputs": [],
   "source": [
    "trainloader = DataLoader(trainset, batch_size=batch_size, shuffle=True, num_workers=2)\n",
    "testloader = DataLoader(testset, batch_size=batch_size, shuffle=False, num_workers=2)"
   ]
  },
  {
   "cell_type": "markdown",
   "metadata": {
    "id": "euv1JlcJSD3I"
   },
   "source": [
    "#### **ADAM**"
   ]
  },
  {
   "cell_type": "code",
   "execution_count": null,
   "metadata": {
    "id": "Qj93J3X_R6aa"
   },
   "outputs": [],
   "source": [
    "# Let's create a model object\n",
    "fc_net = FCNet()\n",
    "# Define the loss function\n",
    "loss_function = nn.CrossEntropyLoss()\n",
    "# Let's create an optimizer for our network\n",
    "lr = 0.001 # learning rate"
   ]
  },
  {
   "cell_type": "code",
   "execution_count": null,
   "metadata": {
    "colab": {
     "base_uri": "https://localhost:8080/"
    },
    "id": "VWZtYBCvAoWQ",
    "outputId": "ec3de2b7-fd73-4c68-bf97-f2e5075e0455"
   },
   "outputs": [
    {
     "name": "stdout",
     "output_type": "stream",
     "text": [
      "Epoch=1 loss=0.4578\n",
      "0.8237\n",
      "Epoch=2 loss=0.1875\n",
      "0.8726\n",
      "Epoch=3 loss=0.1192\n",
      "0.889\n",
      "Epoch=4 loss=0.0820\n",
      "0.901\n",
      "Epoch=5 loss=0.0556\n",
      "0.8972\n",
      "Epoch=6 loss=0.0386\n",
      "0.8988\n",
      "Epoch=7 loss=0.0268\n",
      "0.8997\n",
      "Epoch=8 loss=0.0196\n",
      "0.9033\n",
      "Epoch=9 loss=0.0186\n",
      "0.8991\n",
      "Epoch=10 loss=0.0176\n",
      "0.8997\n"
     ]
    }
   ],
   "source": [
    "n_epochs = 10\n",
    "optimizer = torch.optim.Adam(fc_net.parameters(), lr=lr)\n",
    "loss_history = train(n_epochs, trainloader, fc_net, optimizer, loss_function)"
   ]
  },
  {
   "cell_type": "code",
   "execution_count": null,
   "metadata": {
    "colab": {
     "base_uri": "https://localhost:8080/",
     "height": 350
    },
    "id": "Gfbv9OIAAoYT",
    "outputId": "77b33185-12c4-48ae-805f-2b88b1b4b653"
   },
   "outputs": [
    {
     "data": {
      "image/png": "[encoded data removed]",
      "text/plain": [
       "<Figure size 720x360 with 1 Axes>"
      ]
     },
     "metadata": {
      "needs_background": "light"
     },
     "output_type": "display_data"
    }
   ],
   "source": [
    "import matplotlib.pyplot as plt\n",
    "plt.figure(figsize=(10,5))\n",
    "plt.plot([i+1 for i in range(n_epochs)], loss_history)\n",
    "plt.xlabel(\"Epochs\")\n",
    "plt.ylabel(\"Loss\")\n",
    "plt.title(\"ADAM\")\n",
    "plt.show()"
   ]
  },
  {
   "cell_type": "markdown",
   "metadata": {
    "id": "RcIJvhWkcjlh"
   },
   "source": [
    "How did `accuracy` change after normalization?\n"
   ]
  },
  {
   "cell_type": "markdown",
   "metadata": {
    "id": "je8SlZiiQOS3"
   },
   "source": [
    "Before:\r\n",
    "\r\n",
    "0.9022\r\n",
    "\r\n",
    "After:\r\n",
    "\r\n",
    "0.8997\r\n",
    "\r\n",
    "\r\n",
    "Has not improved"
   ]
  },
  {
   "cell_type": "markdown",
   "metadata": {
    "id": "jnqqVR_oSHzT"
   },
   "source": [
    "#### **SGD**"
   ]
  },
  {
   "cell_type": "code",
   "execution_count": null,
   "metadata": {
    "colab": {
     "base_uri": "https://localhost:8080/"
    },
    "id": "wvhd_sxASGwc",
    "outputId": "b91319b7-bd4a-4daa-957a-d3ff5b18b076"
   },
   "outputs": [
    {
     "name": "stdout",
     "output_type": "stream",
     "text": [
      "Epoch=1 loss=2.2789\n",
      "0.1974\n",
      "Epoch=2 loss=2.2295\n",
      "0.2794\n",
      "Epoch=3 loss=2.1736\n",
      "0.3385\n",
      "Epoch=4 loss=2.1062\n",
      "0.3721\n",
      "Epoch=5 loss=2.0254\n",
      "0.3911\n",
      "Epoch=6 loss=1.9331\n",
      "0.4073\n",
      "Epoch=7 loss=1.8333\n",
      "0.4255\n",
      "Epoch=8 loss=1.7299\n",
      "0.442\n",
      "Epoch=9 loss=1.6259\n",
      "0.4584\n",
      "Epoch=10 loss=1.5247\n",
      "0.4737\n"
     ]
    }
   ],
   "source": [
    "n_epochs = 10\n",
    "# Let's create a model object\n",
    "sgd_fc_net = FCNet()\n",
    "# Define the loss function\n",
    "sgd_loss_function = nn.CrossEntropyLoss()\n",
    "# Let's create an optimizer for our network\n",
    "lr = 0.001 # learning rate\n",
    "\n",
    "sgd_optimizer = torch.optim.SGD(sgd_fc_net.parameters(), lr=lr)\n",
    "sgd_loss_history = train(n_epochs, trainloader, sgd_fc_net, sgd_optimizer, sgd_loss_function)"
   ]
  },
  {
   "cell_type": "code",
   "execution_count": null,
   "metadata": {
    "colab": {
     "base_uri": "https://localhost:8080/",
     "height": 350
    },
    "id": "S2mZhd9vSPAU",
    "outputId": "7fd1a7ee-f7f6-4026-c5e3-8467738c1ab0"
   },
   "outputs": [
    {
     "data": {
      "image/png": "[encoded data removed]",
      "text/plain": [
       "<Figure size 720x360 with 1 Axes>"
      ]
     },
     "metadata": {
      "needs_background": "light"
     },
     "output_type": "display_data"
    }
   ],
   "source": [
    "import matplotlib.pyplot as plt\n",
    "plt.figure(figsize=(10,5))\n",
    "plt.plot([i+1 for i in range(n_epochs)], sgd_loss_history)\n",
    "plt.xlabel(\"Epochs\")\n",
    "plt.ylabel(\"Loss\")\n",
    "plt.title(\"SGD\")\n",
    "plt.show()"
   ]
  },
  {
   "cell_type": "markdown",
   "metadata": {
    "id": "JUb6Q3AHS4pS"
   },
   "source": [
    "Before:\r\n",
    "\r\n",
    "0.2791\r\n",
    "\r\n",
    "After:\r\n",
    "\r\n",
    "0.4737\r\n",
    "\r\n",
    "Significantly improved"
   ]
  },
  {
   "cell_type": "markdown",
   "metadata": {
    "id": "atcfzu4acxP2"
   },
   "source": [
    "### Task 5. Studying the influence of the activation function\r\n",
    "\r\n",
    "Explore the impact of activation functions on the learning rate and accuracy of model predictions.\r\n",
    "\r\n",
    "Use three functions:\n",
    "\n",
    "* [Sigmoid](https://pytorch.org/docs/stable/nn.functional.html#sigmoid)\n",
    "* [GELU](https://pytorch.org/docs/stable/nn.functional.html#gelu)\n",
    "* [Tanh](https://pytorch.org/docs/stable/generated/torch.nn.Tanh.html#torch.nn.Tanh)"
   ]
  },
  {
   "cell_type": "code",
   "execution_count": null,
   "metadata": {
    "id": "bAESPpjGa3M1"
   },
   "outputs": [],
   "source": [
    "class FCNetActivation(nn.Module):\n",
    "    def __init__(self, activation_function=\"ReLU\"):\n",
    "        super().__init__() \n",
    "        ## YOUR CODE HERE\n",
    "        # in_features number of inputs for each neuron, out_features number of neurons\n",
    "        self.fc1 = nn.Linear(in_features=28*28, out_features=256)\n",
    "        self.fc2 = nn.Linear(in_features=256, out_features=128)\n",
    "        # in_features number of pre-layer neurons, out_features number of classes (10)\n",
    "        self.fc3 = nn.Linear(in_features=128, out_features=10)\n",
    "        # Activation dictionary\n",
    "        self.act_dic = {\n",
    "            \"Sigmoid\": nn.Sigmoid(),\n",
    "            \"GELU\": nn.GELU(),\n",
    "            \"Tanh\": nn.Tanh(),\n",
    "            \"ReLU\": nn.ReLU(),\n",
    "            \"LeakyReLU\": nn.LeakyReLU()\n",
    "        }\n",
    "        # Activation function for hidden layers\n",
    "        self.activation = self.act_dic[activation_function]\n",
    "\n",
    "    def forward(self, x):  # Forward is called inside the __call__ method of the parent class\n",
    "         ## x -> dimension tensor (BATCH_SIZE, N_CHANNELS, WIDTH, HEIGHT)\n",
    "         ## we need to think about the fact that our fully connected layers accept vectors\n",
    "\n",
    "        x = x.view(-1, 28*28) # convert the image to vector\n",
    "        x = self.fc1(x)\n",
    "        x = self.activation(x)\n",
    "        x = self.fc2(x)\n",
    "        x = self.activation(x)\n",
    "        logits = self.fc3(x)\n",
    "        return logits\n"
   ]
  },
  {
   "cell_type": "markdown",
   "metadata": {
    "id": "yyNWQt1gfGT_"
   },
   "source": [
    "#### **ReLU**"
   ]
  },
  {
   "cell_type": "code",
   "execution_count": null,
   "metadata": {
    "colab": {
     "base_uri": "https://localhost:8080/",
     "height": 697
    },
    "id": "GdvHSFeKa2sW",
    "outputId": "7d39161b-c777-4faf-8d49-ab26119fb18b"
   },
   "outputs": [
    {
     "name": "stdout",
     "output_type": "stream",
     "text": [
      "Epoch=1 loss=0.6173\n",
      "0.8005\n",
      "Epoch=2 loss=0.2775\n",
      "0.834\n",
      "Epoch=3 loss=0.1932\n",
      "0.8604\n",
      "Epoch=4 loss=0.1429\n",
      "0.8778\n",
      "Epoch=5 loss=0.1108\n",
      "0.8879\n",
      "Epoch=6 loss=0.0825\n",
      "0.8938\n",
      "Epoch=7 loss=0.0636\n",
      "0.8986\n",
      "Epoch=8 loss=0.0500\n",
      "0.8945\n",
      "Epoch=9 loss=0.0376\n",
      "0.8983\n",
      "Epoch=10 loss=0.0272\n",
      "0.8973\n"
     ]
    },
    {
     "data": {
      "image/png": "[encoded data removed]",
      "text/plain": [
       "<Figure size 720x360 with 1 Axes>"
      ]
     },
     "metadata": {
      "needs_background": "light"
     },
     "output_type": "display_data"
    }
   ],
   "source": [
    "fc_net = FCNetActivation(activation_function=\"ReLU\")\n",
    "loss_function = nn.CrossEntropyLoss()\n",
    "lr = 0.001 \n",
    "\n",
    "n_epochs = 10\n",
    "optimizer = torch.optim.Adam(fc_net.parameters(), lr=lr)\n",
    "loss_history = train(n_epochs, trainloader, fc_net, optimizer, loss_function)\n",
    "\n",
    "plt.figure(figsize=(10,5))\n",
    "plt.plot([i+1 for i in range(n_epochs)], loss_history)\n",
    "plt.xlabel(\"Epochs\")\n",
    "plt.ylabel(\"Loss\")\n",
    "plt.title(\"ADAM ReLU\")\n",
    "plt.show()"
   ]
  },
  {
   "cell_type": "markdown",
   "metadata": {
    "id": "LqcAYiE3fSv7"
   },
   "source": [
    "#### **Sigmoid**"
   ]
  },
  {
   "cell_type": "code",
   "execution_count": null,
   "metadata": {
    "colab": {
     "base_uri": "https://localhost:8080/",
     "height": 697
    },
    "id": "zBok8pXNa2vA",
    "outputId": "2c14e124-2c8e-4abb-ad11-690b1819cd0a"
   },
   "outputs": [
    {
     "name": "stdout",
     "output_type": "stream",
     "text": [
      "Epoch=1 loss=1.1661\n",
      "0.6787\n",
      "Epoch=2 loss=0.4907\n",
      "0.7602\n",
      "Epoch=3 loss=0.3515\n",
      "0.8058\n",
      "Epoch=4 loss=0.2730\n",
      "0.8321\n",
      "Epoch=5 loss=0.2211\n",
      "0.8439\n",
      "Epoch=6 loss=0.1835\n",
      "0.8654\n",
      "Epoch=7 loss=0.1523\n",
      "0.8648\n",
      "Epoch=8 loss=0.1290\n",
      "0.8756\n",
      "Epoch=9 loss=0.1069\n",
      "0.8846\n",
      "Epoch=10 loss=0.0899\n",
      "0.8901\n"
     ]
    },
    {
     "data": {
      "image/png": "[encoded data removed]",
      "text/plain": [
       "<Figure size 720x360 with 1 Axes>"
      ]
     },
     "metadata": {
      "needs_background": "light"
     },
     "output_type": "display_data"
    }
   ],
   "source": [
    "fc_net = FCNetActivation(activation_function=\"Sigmoid\")\n",
    "loss_function = nn.CrossEntropyLoss()\n",
    "lr = 0.001 \n",
    "\n",
    "n_epochs = 10\n",
    "optimizer = torch.optim.Adam(fc_net.parameters(), lr=lr)\n",
    "loss_history = train(n_epochs, trainloader, fc_net, optimizer, loss_function)\n",
    "\n",
    "plt.figure(figsize=(10,5))\n",
    "plt.plot([i+1 for i in range(n_epochs)], loss_history)\n",
    "plt.xlabel(\"Epochs\")\n",
    "plt.ylabel(\"Loss\")\n",
    "plt.title(\"ADAM Sigmoid\")\n",
    "plt.show()"
   ]
  },
  {
   "cell_type": "markdown",
   "metadata": {
    "id": "wExZ9xRofWFT"
   },
   "source": [
    "#### **GELU**"
   ]
  },
  {
   "cell_type": "code",
   "execution_count": null,
   "metadata": {
    "colab": {
     "base_uri": "https://localhost:8080/",
     "height": 697
    },
    "id": "kx8LpedjWSWm",
    "outputId": "b08b56e8-8fac-49dd-9bb2-f4bbcb3d0416"
   },
   "outputs": [
    {
     "name": "stdout",
     "output_type": "stream",
     "text": [
      "Epoch=1 loss=0.6067\n",
      "0.7806\n",
      "Epoch=2 loss=0.2764\n",
      "0.8356\n",
      "Epoch=3 loss=0.1879\n",
      "0.861\n",
      "Epoch=4 loss=0.1387\n",
      "0.8847\n",
      "Epoch=5 loss=0.1026\n",
      "0.8924\n",
      "Epoch=6 loss=0.0793\n",
      "0.8991\n",
      "Epoch=7 loss=0.0591\n",
      "0.8999\n",
      "Epoch=8 loss=0.0442\n",
      "0.8999\n",
      "Epoch=9 loss=0.0336\n",
      "0.9079\n",
      "Epoch=10 loss=0.0242\n",
      "0.9059\n"
     ]
    },
    {
     "data": {
      "image/png": "[encoded data removed]",
      "text/plain": [
       "<Figure size 720x360 with 1 Axes>"
      ]
     },
     "metadata": {
      "needs_background": "light"
     },
     "output_type": "display_data"
    }
   ],
   "source": [
    "fc_net = FCNetActivation(activation_function=\"GELU\")\n",
    "loss_function = nn.CrossEntropyLoss()\n",
    "lr = 0.001 \n",
    "\n",
    "n_epochs = 10\n",
    "optimizer = torch.optim.Adam(fc_net.parameters(), lr=lr)\n",
    "loss_history = train(n_epochs, trainloader, fc_net, optimizer, loss_function)\n",
    "\n",
    "plt.figure(figsize=(10,5))\n",
    "plt.plot([i+1 for i in range(n_epochs)], loss_history)\n",
    "plt.xlabel(\"Epochs\")\n",
    "plt.ylabel(\"Loss\")\n",
    "plt.title(\"ADAM GELU\")\n",
    "plt.show()"
   ]
  },
  {
   "cell_type": "markdown",
   "metadata": {
    "id": "8hRFumCWfYbm"
   },
   "source": [
    "#### **Tanh**"
   ]
  },
  {
   "cell_type": "code",
   "execution_count": null,
   "metadata": {
    "colab": {
     "base_uri": "https://localhost:8080/",
     "height": 697
    },
    "id": "w729tdLpWLlh",
    "outputId": "4e4f02ea-7441-4dab-e285-96140e42b5c1"
   },
   "outputs": [
    {
     "name": "stdout",
     "output_type": "stream",
     "text": [
      "Epoch=1 loss=0.6259\n",
      "0.7828\n",
      "Epoch=2 loss=0.2907\n",
      "0.8445\n",
      "Epoch=3 loss=0.1978\n",
      "0.8653\n",
      "Epoch=4 loss=0.1412\n",
      "0.8848\n",
      "Epoch=5 loss=0.1037\n",
      "0.8923\n",
      "Epoch=6 loss=0.0762\n",
      "0.8954\n",
      "Epoch=7 loss=0.0554\n",
      "0.8989\n",
      "Epoch=8 loss=0.0397\n",
      "0.8987\n",
      "Epoch=9 loss=0.0278\n",
      "0.9075\n",
      "Epoch=10 loss=0.0212\n",
      "0.9055\n"
     ]
    },
    {
     "data": {
      "image/png": "[encoded data removed]",
      "text/plain": [
       "<Figure size 720x360 with 1 Axes>"
      ]
     },
     "metadata": {
      "needs_background": "light"
     },
     "output_type": "display_data"
    }
   ],
   "source": [
    "fc_net = FCNetActivation(activation_function=\"Tanh\")\n",
    "loss_function = nn.CrossEntropyLoss()\n",
    "lr = 0.001\n",
    "\n",
    "n_epochs = 10\n",
    "optimizer = torch.optim.Adam(fc_net.parameters(), lr=lr)\n",
    "loss_history = train(n_epochs, trainloader, fc_net, optimizer, loss_function)\n",
    "\n",
    "plt.figure(figsize=(10,5))\n",
    "plt.plot([i+1 for i in range(n_epochs)], loss_history)\n",
    "plt.xlabel(\"Epochs\")\n",
    "plt.ylabel(\"Loss\")\n",
    "plt.title(\"ADAM Tanh\")\n",
    "plt.show()"
   ]
  },
  {
   "cell_type": "markdown",
   "metadata": {
    "id": "2y1RYN17iLd5"
   },
   "source": [
    "#### **LeakyReLU**"
   ]
  },
  {
   "cell_type": "code",
   "execution_count": null,
   "metadata": {
    "colab": {
     "base_uri": "https://localhost:8080/",
     "height": 697
    },
    "id": "vPKh8V4vX1y0",
    "outputId": "50914021-9492-4287-af22-ddeb498256ac",
    "scrolled": true
   },
   "outputs": [
    {
     "name": "stdout",
     "output_type": "stream",
     "text": [
      "Epoch=1 loss=0.6198\n",
      "0.7816\n",
      "Epoch=2 loss=0.2856\n",
      "0.8375\n",
      "Epoch=3 loss=0.1960\n",
      "0.8608\n",
      "Epoch=4 loss=0.1449\n",
      "0.8755\n",
      "Epoch=5 loss=0.1112\n",
      "0.8857\n",
      "Epoch=6 loss=0.0857\n",
      "0.8972\n",
      "Epoch=7 loss=0.0634\n",
      "0.8978\n",
      "Epoch=8 loss=0.0485\n",
      "0.8957\n",
      "Epoch=9 loss=0.0362\n",
      "0.9008\n",
      "Epoch=10 loss=0.0260\n",
      "0.8995\n"
     ]
    },
    {
     "data": {
      "image/png": "[encoded data removed]",
      "text/plain": [
       "<Figure size 720x360 with 1 Axes>"
      ]
     },
     "metadata": {
      "needs_background": "light"
     },
     "output_type": "display_data"
    }
   ],
   "source": [
    "fc_net = FCNetActivation(activation_function=\"LeakyReLU\")\n",
    "loss_function = nn.CrossEntropyLoss()\n",
    "lr = 0.001 \n",
    "\n",
    "n_epochs = 10\n",
    "optimizer = torch.optim.Adam(fc_net.parameters(), lr=lr)\n",
    "loss_history = train(n_epochs, trainloader, fc_net, optimizer, loss_function)\n",
    "\n",
    "plt.figure(figsize=(10,5))\n",
    "plt.plot([i+1 for i in range(n_epochs)], loss_history)\n",
    "plt.xlabel(\"Epochs\")\n",
    "plt.ylabel(\"Loss\")\n",
    "plt.title(\"ADAM LeakyReLU\")\n",
    "plt.show()"
   ]
  },
  {
   "cell_type": "markdown",
   "metadata": {
    "id": "aG2Oyxy2egVV"
   },
   "source": [
    "Using which activation function was it possible to achieve the greatest `accuracy`?\n"
   ]
  },
  {
   "cell_type": "markdown",
   "metadata": {
    "id": "ZZ_wfAGQYFwC"
   },
   "source": [
    "GELU"
   ]
  },
  {
   "cell_type": "markdown",
   "metadata": {
    "id": "20Ls3Bfsifqd"
   },
   "source": [
    "### Task 6. Other optimizers\r\n",
    "\r\n",
    "\r\n",
    "Explore the impact of optimizers on model learning speed and prediction accuracy.\r\n",
    "\r\n",
    "Try the following:\r\n",
    "\r\n",
    "* [Adam](https://pytorch.org/docs/stable/generated/torch.optim.Adam.html#torch.optim.Adam)\r\n",
    "* [RMSprop](https://pytorch.org/docs/stable/generated/torch.optim.RMSprop.html#torch.optim.RMSprop)\r\n",
    "* [Adagrad](https://pytorch.org/docs/stable/generated/torch.optim.Adagrad.html#torch.optim.Adagrad)\r\n",
    "\r\n",
    "You need to train 3 models again and compare their performance (use the activation function that performed best)."
   ]
  },
  {
   "cell_type": "markdown",
   "metadata": {
    "id": "sh4l-ktDYjbe"
   },
   "source": [
    "#### **ADAM**"
   ]
  },
  {
   "cell_type": "code",
   "execution_count": null,
   "metadata": {
    "colab": {
     "base_uri": "https://localhost:8080/",
     "height": 697
    },
    "id": "rzL2LdA-ifJh",
    "outputId": "84027275-fb4c-4fd7-a895-678baeea73d3"
   },
   "outputs": [
    {
     "name": "stdout",
     "output_type": "stream",
     "text": [
      "Epoch=1 loss=0.3818\n",
      "0.8539\n",
      "Epoch=2 loss=0.1761\n",
      "0.8664\n",
      "Epoch=3 loss=0.1340\n",
      "0.8742\n",
      "Epoch=4 loss=0.1088\n",
      "0.89\n",
      "Epoch=5 loss=0.0999\n",
      "0.8925\n",
      "Epoch=6 loss=0.0827\n",
      "0.8714\n",
      "Epoch=7 loss=0.0800\n",
      "0.8765\n",
      "Epoch=8 loss=0.0803\n",
      "0.8857\n",
      "Epoch=9 loss=0.0757\n",
      "0.8844\n",
      "Epoch=10 loss=0.0729\n",
      "0.8995\n"
     ]
    },
    {
     "data": {
      "image/png": "[encoded data removed]",
      "text/plain": [
       "<Figure size 720x360 with 1 Axes>"
      ]
     },
     "metadata": {
      "needs_background": "light"
     },
     "output_type": "display_data"
    }
   ],
   "source": [
    "fc_net = FCNetActivation(activation_function=\"ReLU\")\n",
    "loss_function = nn.CrossEntropyLoss()\n",
    "lr = 0.01 \n",
    "\n",
    "n_epochs = 10\n",
    "optimizer = torch.optim.Adam(fc_net.parameters(), lr=lr)\n",
    "loss_history = train(n_epochs, trainloader, fc_net, optimizer, loss_function)\n",
    "\n",
    "plt.figure(figsize=(10,5))\n",
    "plt.plot([i+1 for i in range(n_epochs)], loss_history)\n",
    "plt.xlabel(\"Epochs\")\n",
    "plt.ylabel(\"Loss\")\n",
    "plt.title(\"ADAM ReLU\")\n",
    "plt.show()"
   ]
  },
  {
   "cell_type": "markdown",
   "metadata": {
    "id": "x0_Oyfv5YnI7"
   },
   "source": [
    "#### **RMSprop**"
   ]
  },
  {
   "cell_type": "code",
   "execution_count": null,
   "metadata": {
    "colab": {
     "base_uri": "https://localhost:8080/",
     "height": 697
    },
    "id": "xidEZ3SvYQZo",
    "outputId": "e3c86024-777c-4c94-9738-e22f1fd9cf5b"
   },
   "outputs": [
    {
     "name": "stdout",
     "output_type": "stream",
     "text": [
      "Epoch=1 loss=1.7105\n",
      "0.7526\n",
      "Epoch=2 loss=0.3083\n",
      "0.7794\n",
      "Epoch=3 loss=0.2435\n",
      "0.8182\n",
      "Epoch=4 loss=0.2074\n",
      "0.7723\n",
      "Epoch=5 loss=0.1882\n",
      "0.8141\n",
      "Epoch=6 loss=0.1629\n",
      "0.868\n",
      "Epoch=7 loss=0.1478\n",
      "0.8498\n",
      "Epoch=8 loss=0.1287\n",
      "0.8351\n",
      "Epoch=9 loss=0.1280\n",
      "0.8454\n",
      "Epoch=10 loss=0.1123\n",
      "0.8653\n"
     ]
    },
    {
     "data": {
      "image/png": "[encoded data removed]",
      "text/plain": [
       "<Figure size 720x360 with 1 Axes>"
      ]
     },
     "metadata": {
      "needs_background": "light"
     },
     "output_type": "display_data"
    }
   ],
   "source": [
    "fc_net = FCNetActivation(activation_function=\"ReLU\")\n",
    "loss_function = nn.CrossEntropyLoss()\n",
    "lr = 0.01 \n",
    "\n",
    "n_epochs = 10\n",
    "optimizer = torch.optim.RMSprop(fc_net.parameters(), lr=lr)\n",
    "loss_history = train(n_epochs, trainloader, fc_net, optimizer, loss_function)\n",
    "\n",
    "plt.figure(figsize=(10,5))\n",
    "plt.plot([i+1 for i in range(n_epochs)], loss_history)\n",
    "plt.xlabel(\"Epochs\")\n",
    "plt.ylabel(\"Loss\")\n",
    "plt.title(\"RMSprop ReLU\")\n",
    "plt.show()"
   ]
  },
  {
   "cell_type": "markdown",
   "metadata": {
    "id": "jpDqIYeaYwyp"
   },
   "source": [
    "#### **Adagrad**"
   ]
  },
  {
   "cell_type": "code",
   "execution_count": null,
   "metadata": {
    "colab": {
     "base_uri": "https://localhost:8080/",
     "height": 697
    },
    "id": "65yKzyGqYX1L",
    "outputId": "293ce809-4bdd-432a-b101-adae45d97fad"
   },
   "outputs": [
    {
     "name": "stdout",
     "output_type": "stream",
     "text": [
      "Epoch=1 loss=0.4757\n",
      "0.8018\n",
      "Epoch=2 loss=0.2365\n",
      "0.8487\n",
      "Epoch=3 loss=0.1778\n",
      "0.8698\n",
      "Epoch=4 loss=0.1428\n",
      "0.8757\n",
      "Epoch=5 loss=0.1201\n",
      "0.882\n",
      "Epoch=6 loss=0.1020\n",
      "0.8916\n",
      "Epoch=7 loss=0.0888\n",
      "0.8888\n",
      "Epoch=8 loss=0.0773\n",
      "0.8938\n",
      "Epoch=9 loss=0.0682\n",
      "0.9004\n",
      "Epoch=10 loss=0.0604\n",
      "0.8928\n"
     ]
    },
    {
     "data": {
      "image/png": "[encoded data removed]",
      "text/plain": [
       "<Figure size 720x360 with 1 Axes>"
      ]
     },
     "metadata": {
      "needs_background": "light"
     },
     "output_type": "display_data"
    }
   ],
   "source": [
    "fc_net = FCNetActivation(activation_function=\"ReLU\")\n",
    "loss_function = nn.CrossEntropyLoss()\n",
    "lr = 0.01 \n",
    "\n",
    "n_epochs = 10\n",
    "optimizer = torch.optim.Adagrad(fc_net.parameters(), lr=lr)\n",
    "loss_history = train(n_epochs, trainloader, fc_net, optimizer, loss_function)\n",
    "\n",
    "plt.figure(figsize=(10,5))\n",
    "plt.plot([i+1 for i in range(n_epochs)], loss_history)\n",
    "plt.xlabel(\"Epochs\")\n",
    "plt.ylabel(\"Loss\")\n",
    "plt.title(\"Adagrad ReLU\")\n",
    "plt.show()"
   ]
  },
  {
   "cell_type": "markdown",
   "metadata": {
    "id": "bP7n4xhobV92"
   },
   "source": [
    "Best one is still Adam."
   ]
  },
  {
   "cell_type": "markdown",
   "metadata": {
    "id": "eHA48PsperxS"
   },
   "source": [
    "### Task 7. Implementation of ReLU\r\n",
    "\r\n",
    "\r\n",
    "Implement the ReLU activation function yourself.\r\n",
    "Replace the activation function in the already trained model with yours. Make sure nothing has changed."
   ]
  },
  {
   "cell_type": "code",
   "execution_count": null,
   "metadata": {
    "id": "63uTkUp-a2xr"
   },
   "outputs": [],
   "source": [
    "class CustomReLU(nn.Module):\n",
    "    def __init__(self):\n",
    "        super().__init__()\n",
    "\n",
    "    def forward(self, x):\n",
    "        # YOUR CODE HERE\n",
    "        # if element x < 0, then 0, if >= 0, then x\n",
    "        x[x<0] = 0\n",
    "        return x\n",
    "\n",
    "class FCNetCustomReLU(nn.Module):\n",
    "    def __init__(self):\n",
    "        super().__init__()\n",
    "        self.fc1 = nn.Linear(in_features=28*28, out_features=256)\n",
    "        self.fc2 = nn.Linear(in_features=256, out_features=128)\n",
    "        self.fc3 = nn.Linear(in_features=128, out_features=10)\n",
    "        # Activation function for hidden layers\n",
    "        self.activation = CustomReLU()\n",
    "\n",
    "    def forward(self, x):\n",
    "\n",
    "        x = x.view(-1, 28*28)\n",
    "        x = self.fc1(x)\n",
    "        x = self.activation(x)\n",
    "        x = self.fc2(x)\n",
    "        x = self.activation(x)\n",
    "        logits = self.fc3(x)\n",
    "        return logits\n"
   ]
  },
  {
   "cell_type": "markdown",
   "metadata": {
    "id": "xsKzxa33fhbN"
   },
   "source": [
    "Retrain the model and check that the `CustomReLU` implementation is correct."
   ]
  },
  {
   "cell_type": "markdown",
   "metadata": {
    "id": "K8HQgoItfobo"
   },
   "source": [
    "#### **Pytorch**"
   ]
  },
  {
   "cell_type": "code",
   "execution_count": null,
   "metadata": {
    "colab": {
     "base_uri": "https://localhost:8080/",
     "height": 697
    },
    "id": "ePP55RBeecYh",
    "outputId": "a8f32a30-2dbf-465f-90dd-66e715903348"
   },
   "outputs": [
    {
     "name": "stdout",
     "output_type": "stream",
     "text": [
      "Epoch=1 loss=0.6095\n",
      "0.784\n",
      "Epoch=2 loss=0.2819\n",
      "0.828\n",
      "Epoch=3 loss=0.1918\n",
      "0.8587\n",
      "Epoch=4 loss=0.1409\n",
      "0.8791\n",
      "Epoch=5 loss=0.1063\n",
      "0.8909\n",
      "Epoch=6 loss=0.0806\n",
      "0.8926\n",
      "Epoch=7 loss=0.0613\n",
      "0.8903\n",
      "Epoch=8 loss=0.0468\n",
      "0.8937\n",
      "Epoch=9 loss=0.0329\n",
      "0.9031\n",
      "Epoch=10 loss=0.0250\n",
      "0.901\n"
     ]
    },
    {
     "data": {
      "image/png": "[encoded data removed]",
      "text/plain": [
       "<Figure size 720x360 with 1 Axes>"
      ]
     },
     "metadata": {
      "needs_background": "light"
     },
     "output_type": "display_data"
    }
   ],
   "source": [
    "fc_net = FCNetActivation(activation_function=\"ReLU\")\n",
    "loss_function = nn.CrossEntropyLoss()\n",
    "lr = 0.001 \n",
    "\n",
    "n_epochs = 10\n",
    "optimizer = torch.optim.Adam(fc_net.parameters(), lr=lr)\n",
    "loss_history = train(n_epochs, trainloader, fc_net, optimizer, loss_function)\n",
    "\n",
    "plt.figure(figsize=(10,5))\n",
    "plt.plot([i+1 for i in range(n_epochs)], loss_history)\n",
    "plt.xlabel(\"Epochs\")\n",
    "plt.ylabel(\"Loss\")\n",
    "plt.title(\"ADAM ReLU\")\n",
    "plt.show()"
   ]
  },
  {
   "cell_type": "markdown",
   "metadata": {
    "id": "UHP6riB8fklK"
   },
   "source": [
    "#### **CustomReLU**"
   ]
  },
  {
   "cell_type": "code",
   "execution_count": null,
   "metadata": {
    "colab": {
     "base_uri": "https://localhost:8080/",
     "height": 697
    },
    "id": "BkkfHApLbkAH",
    "outputId": "5c346021-2a99-4bff-dd3e-3f2535c745ab"
   },
   "outputs": [
    {
     "name": "stdout",
     "output_type": "stream",
     "text": [
      "Epoch=1 loss=0.6110\n",
      "0.7906\n",
      "Epoch=2 loss=0.2842\n",
      "0.8433\n",
      "Epoch=3 loss=0.1998\n",
      "0.8572\n",
      "Epoch=4 loss=0.1465\n",
      "0.8741\n",
      "Epoch=5 loss=0.1123\n",
      "0.884\n",
      "Epoch=6 loss=0.0862\n",
      "0.8942\n",
      "Epoch=7 loss=0.0666\n",
      "0.8999\n",
      "Epoch=8 loss=0.0484\n",
      "0.8972\n",
      "Epoch=9 loss=0.0354\n",
      "0.8994\n",
      "Epoch=10 loss=0.0267\n",
      "0.894\n"
     ]
    },
    {
     "data": {
      "image/png": "[encoded data removed]",
      "text/plain": [
       "<Figure size 720x360 with 1 Axes>"
      ]
     },
     "metadata": {
      "needs_background": "light"
     },
     "output_type": "display_data"
    }
   ],
   "source": [
    "fc_net = FCNetCustomReLU()\n",
    "loss_function = nn.CrossEntropyLoss()\n",
    "lr = 0.001\n",
    "\n",
    "n_epochs = 10\n",
    "optimizer = torch.optim.Adam(fc_net.parameters(), lr=lr)\n",
    "loss_history = train(n_epochs, trainloader, fc_net, optimizer, loss_function)\n",
    "\n",
    "plt.figure(figsize=(10,5))\n",
    "plt.plot([i+1 for i in range(n_epochs)], loss_history)\n",
    "plt.xlabel(\"Epochs\")\n",
    "plt.ylabel(\"Loss\")\n",
    "plt.title(\"ADAM ReLU\")\n",
    "plt.show()"
   ]
  }
 ],
 "metadata": {
  "colab": {
   "provenance": [],
   "toc_visible": true
  },
  "kernelspec": {
   "display_name": "Python 3 (ipykernel)",
   "language": "python",
   "name": "python3"
  },
  "language_info": {
   "codemirror_mode": {
    "name": "ipython",
    "version": 3
   },
   "file_extension": ".py",
   "mimetype": "text/x-python",
   "name": "python",
   "nbconvert_exporter": "python",
   "pygments_lexer": "ipython3",
   "version": "3.11.4"
  }
 },
 "nbformat": 4,
 "nbformat_minor": 4
}
